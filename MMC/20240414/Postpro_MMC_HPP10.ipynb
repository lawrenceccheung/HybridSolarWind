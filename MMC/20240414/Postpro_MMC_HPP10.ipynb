{
 "cells": [
  {
   "cell_type": "markdown",
   "id": "d97a8e10-bfec-4098-9f2a-2ee88fe0f2c8",
   "metadata": {},
   "source": [
    "# Postprocessing MMC case"
   ]
  },
  {
   "cell_type": "code",
   "execution_count": 1,
   "id": "dd1e5168-735f-45db-b796-4c17dd7bf052",
   "metadata": {},
   "outputs": [
    {
     "name": "stderr",
     "output_type": "stream",
     "text": [
      "/ascldap/users/lcheung/.local/lib/python3.9/site-packages/pandas/core/computation/expressions.py:21: UserWarning: Pandas requires version '2.8.4' or newer of 'numexpr' (version '2.8.1' currently installed).\n",
      "  from pandas.core.computation.check import NUMEXPR_INSTALLED\n",
      "/ascldap/users/lcheung/.local/lib/python3.9/site-packages/pandas/core/arrays/masked.py:60: UserWarning: Pandas requires version '1.3.6' or newer of 'bottleneck' (version '1.3.4' currently installed).\n",
      "  from pandas.core import (\n"
     ]
    }
   ],
   "source": [
    "# Load the modules\n",
    "\n",
    "# Add any possible locations of amr-wind-frontend here\n",
    "amrwindfedirs = ['/projects/wind_uq/lcheung/amrwind-frontend/',\n",
    "                 '/ccs/proj/cfd162/lcheung/amrwind-frontend/']\n",
    "import sys, os, shutil\n",
    "for x in amrwindfedirs: sys.path.insert(1, x)\n",
    "import MMCutil as writeMMC\n",
    "import postproamrwindsample_xarray as ppsamplexr\n",
    "\n",
    "# Load the libraries\n",
    "import numpy as np\n",
    "import pandas as pd\n",
    "import amrwind_frontend as amrwind\n",
    "import matplotlib.pyplot    as plt\n",
    "from mpl_toolkits.axes_grid1 import make_axes_locatable\n",
    "from scipy.interpolate import CubicSpline\n",
    "\n",
    "# Also ignore warnings\n",
    "import warnings\n",
    "warnings.filterwarnings('ignore')\n",
    "\n",
    "# Make all plots inline \n",
    "%matplotlib inline"
   ]
  },
  {
   "cell_type": "code",
   "execution_count": 2,
   "id": "3369a8d8-34c5-4d59-8fa4-9946c6d29aa0",
   "metadata": {},
   "outputs": [],
   "source": [
    "def find_nearest(a, a0):\n",
    "    \"Element in nd array `a` closest to the scalar value `a0`\"\n",
    "    idx = np.abs(a - a0).argmin()\n",
    "    return idx"
   ]
  },
  {
   "cell_type": "code",
   "execution_count": 3,
   "id": "dc7f182d-5663-4a60-a0b3-49cd34e8b616",
   "metadata": {},
   "outputs": [],
   "source": [
    "rundir = '/nscratch/lcheung/2024/HPP_WindSolar/MMC_HPP10'"
   ]
  },
  {
   "cell_type": "code",
   "execution_count": 4,
   "id": "77af3803-d6dc-4b6e-b47a-7a55868f924d",
   "metadata": {},
   "outputs": [
    {
     "ename": "TclError",
     "evalue": "couldn't connect to display \":616822712\"",
     "output_type": "error",
     "traceback": [
      "\u001b[0;31m---------------------------------------------------------------------------\u001b[0m",
      "\u001b[0;31mTclError\u001b[0m                                  Traceback (most recent call last)",
      "Input \u001b[0;32mIn [4]\u001b[0m, in \u001b[0;36m<cell line: 2>\u001b[0;34m()\u001b[0m\n\u001b[1;32m      1\u001b[0m \u001b[38;5;66;03m# Start the amrwind_frontend app \u001b[39;00m\n\u001b[0;32m----> 2\u001b[0m case \u001b[38;5;241m=\u001b[39m \u001b[43mamrwind\u001b[49m\u001b[38;5;241;43m.\u001b[39;49m\u001b[43mMyApp\u001b[49m\u001b[38;5;241;43m.\u001b[39;49m\u001b[43minit_nogui\u001b[49m\u001b[43m(\u001b[49m\u001b[43m)\u001b[49m\n",
      "File \u001b[0;32m/projects/wind_uq/lcheung/amrwind-frontend/amrwind_frontend.py:162\u001b[0m, in \u001b[0;36mMyApp.init_nogui\u001b[0;34m(cls, *args, **kwargs)\u001b[0m\n\u001b[1;32m    160\u001b[0m     \u001b[38;5;28;01mexcept\u001b[39;00m:\n\u001b[1;32m    161\u001b[0m         \u001b[38;5;28;01mpass\u001b[39;00m\n\u001b[0;32m--> 162\u001b[0m \u001b[38;5;28;01mreturn\u001b[39;00m \u001b[38;5;28;43mcls\u001b[39;49m\u001b[43m(\u001b[49m\u001b[43mconfigyaml\u001b[49m\u001b[38;5;241;43m=\u001b[39;49m\u001b[43mos\u001b[49m\u001b[38;5;241;43m.\u001b[39;49m\u001b[43mpath\u001b[49m\u001b[38;5;241;43m.\u001b[39;49m\u001b[43mjoin\u001b[49m\u001b[43m(\u001b[49m\u001b[43mscriptpath\u001b[49m\u001b[43m,\u001b[49m\u001b[38;5;124;43m'\u001b[39;49m\u001b[38;5;124;43mconfig.yaml\u001b[39;49m\u001b[38;5;124;43m'\u001b[39;49m\u001b[43m)\u001b[49m\u001b[43m,\u001b[49m\u001b[43m \u001b[49m\n\u001b[1;32m    163\u001b[0m \u001b[43m           \u001b[49m\u001b[43mlocalconfigdir\u001b[49m\u001b[38;5;241;43m=\u001b[39;49m\u001b[43mlocalconfigdir\u001b[49m\u001b[43m,\u001b[49m\u001b[43m \u001b[49m\u001b[43mscriptpath\u001b[49m\u001b[38;5;241;43m=\u001b[39;49m\u001b[43mscriptpath\u001b[49m\u001b[43m,\u001b[49m\n\u001b[1;32m    164\u001b[0m \u001b[43m           \u001b[49m\u001b[43mwithdraw\u001b[49m\u001b[38;5;241;43m=\u001b[39;49m\u001b[38;5;28;43;01mTrue\u001b[39;49;00m\u001b[43m,\u001b[49m\u001b[43m \u001b[49m\u001b[38;5;241;43m*\u001b[39;49m\u001b[38;5;241;43m*\u001b[39;49m\u001b[43mkwargs\u001b[49m\u001b[43m)\u001b[49m\n",
      "File \u001b[0;32m/projects/wind_uq/lcheung/amrwind-frontend/amrwind_frontend.py:64\u001b[0m, in \u001b[0;36mMyApp.__init__\u001b[0;34m(self, *args, **kwargs)\u001b[0m\n\u001b[1;32m     62\u001b[0m \u001b[38;5;28mself\u001b[39m\u001b[38;5;241m.\u001b[39mabl_stats \u001b[38;5;241m=\u001b[39m \u001b[38;5;28;01mNone\u001b[39;00m\n\u001b[1;32m     63\u001b[0m \u001b[38;5;28mself\u001b[39m\u001b[38;5;241m.\u001b[39msample_ncdat \u001b[38;5;241m=\u001b[39m \u001b[38;5;28;01mNone\u001b[39;00m\n\u001b[0;32m---> 64\u001b[0m \u001b[38;5;28;43msuper\u001b[39;49m\u001b[43m(\u001b[49m\u001b[43mMyApp\u001b[49m\u001b[43m,\u001b[49m\u001b[43m \u001b[49m\u001b[38;5;28;43mself\u001b[39;49m\u001b[43m)\u001b[49m\u001b[38;5;241;43m.\u001b[39;49m\u001b[38;5;21;43m__init__\u001b[39;49m\u001b[43m(\u001b[49m\u001b[38;5;241;43m*\u001b[39;49m\u001b[43margs\u001b[49m\u001b[43m,\u001b[49m\u001b[43m \u001b[49m\u001b[38;5;241;43m*\u001b[39;49m\u001b[38;5;241;43m*\u001b[39;49m\u001b[43mkwargs\u001b[49m\u001b[43m)\u001b[49m\n\u001b[1;32m     65\u001b[0m \u001b[38;5;28mself\u001b[39m\u001b[38;5;241m.\u001b[39mfig\u001b[38;5;241m.\u001b[39mclf()\n\u001b[1;32m     66\u001b[0m \u001b[38;5;28mself\u001b[39m\u001b[38;5;241m.\u001b[39mfig\u001b[38;5;241m.\u001b[39mtext(\u001b[38;5;241m0.35\u001b[39m,\u001b[38;5;241m0.5\u001b[39m,\u001b[38;5;124m'\u001b[39m\u001b[38;5;124mWelcome to\u001b[39m\u001b[38;5;130;01m\\n\u001b[39;00m\u001b[38;5;124mAMR-Wind\u001b[39m\u001b[38;5;124m'\u001b[39m)\n",
      "File \u001b[0;32m/projects/wind_uq/lcheung/amrwind-frontend/tkyamlgui/tkyamlgui.py:1352\u001b[0m, in \u001b[0;36mApp.__init__\u001b[0;34m(self, menufunc, configyaml, localconfigdir, scriptpath, title, leftframew, withdraw, dorightframe, geometry, leftframeh, *args, **kwargs)\u001b[0m\n\u001b[1;32m   1347\u001b[0m \u001b[38;5;28;01mdef\u001b[39;00m \u001b[38;5;21m__init__\u001b[39m(\u001b[38;5;28mself\u001b[39m, menufunc\u001b[38;5;241m=\u001b[39m\u001b[38;5;28;01mNone\u001b[39;00m, configyaml\u001b[38;5;241m=\u001b[39m\u001b[38;5;124m'\u001b[39m\u001b[38;5;124mdefault.yaml\u001b[39m\u001b[38;5;124m'\u001b[39m, \n\u001b[1;32m   1348\u001b[0m              localconfigdir\u001b[38;5;241m=\u001b[39m\u001b[38;5;124m'\u001b[39m\u001b[38;5;124m'\u001b[39m, scriptpath\u001b[38;5;241m=\u001b[39m\u001b[38;5;124m'\u001b[39m\u001b[38;5;124m'\u001b[39m,\n\u001b[1;32m   1349\u001b[0m              title\u001b[38;5;241m=\u001b[39m\u001b[38;5;124m'\u001b[39m\u001b[38;5;124mTK Yaml GUI\u001b[39m\u001b[38;5;124m'\u001b[39m, leftframew\u001b[38;5;241m=\u001b[39m\u001b[38;5;241m525\u001b[39m, withdraw\u001b[38;5;241m=\u001b[39m\u001b[38;5;28;01mFalse\u001b[39;00m,\n\u001b[1;32m   1350\u001b[0m              dorightframe\u001b[38;5;241m=\u001b[39m\u001b[38;5;28;01mTrue\u001b[39;00m, geometry\u001b[38;5;241m=\u001b[39m\u001b[38;5;124m\"\u001b[39m\u001b[38;5;124m1050x625\u001b[39m\u001b[38;5;124m\"\u001b[39m, leftframeh\u001b[38;5;241m=\u001b[39m\u001b[38;5;241m580\u001b[39m,\n\u001b[1;32m   1351\u001b[0m              \u001b[38;5;241m*\u001b[39margs, \u001b[38;5;241m*\u001b[39m\u001b[38;5;241m*\u001b[39mkwargs):\n\u001b[0;32m-> 1352\u001b[0m     \u001b[38;5;28;43msuper\u001b[39;49m\u001b[43m(\u001b[49m\u001b[43mApp\u001b[49m\u001b[43m,\u001b[49m\u001b[43m \u001b[49m\u001b[38;5;28;43mself\u001b[39;49m\u001b[43m)\u001b[49m\u001b[38;5;241;43m.\u001b[39;49m\u001b[38;5;21;43m__init__\u001b[39;49m\u001b[43m(\u001b[49m\u001b[38;5;241;43m*\u001b[39;49m\u001b[43margs\u001b[49m\u001b[43m,\u001b[49m\u001b[43m \u001b[49m\u001b[38;5;241;43m*\u001b[39;49m\u001b[38;5;241;43m*\u001b[39;49m\u001b[43mkwargs\u001b[49m\u001b[43m)\u001b[49m\n\u001b[1;32m   1353\u001b[0m     \u001b[38;5;28;01mif\u001b[39;00m withdraw: \u001b[38;5;28mself\u001b[39m\u001b[38;5;241m.\u001b[39mwithdraw()\n\u001b[1;32m   1354\u001b[0m     \u001b[38;5;28mself\u001b[39m\u001b[38;5;241m.\u001b[39mleftframew \u001b[38;5;241m=\u001b[39m leftframew\n",
      "File \u001b[0;32m/projects/netpub/anaconda3/2022.05/lib/python3.9/tkinter/__init__.py:2270\u001b[0m, in \u001b[0;36mTk.__init__\u001b[0;34m(self, screenName, baseName, className, useTk, sync, use)\u001b[0m\n\u001b[1;32m   2268\u001b[0m         baseName \u001b[38;5;241m=\u001b[39m baseName \u001b[38;5;241m+\u001b[39m ext\n\u001b[1;32m   2269\u001b[0m interactive \u001b[38;5;241m=\u001b[39m \u001b[38;5;28;01mFalse\u001b[39;00m\n\u001b[0;32m-> 2270\u001b[0m \u001b[38;5;28mself\u001b[39m\u001b[38;5;241m.\u001b[39mtk \u001b[38;5;241m=\u001b[39m \u001b[43m_tkinter\u001b[49m\u001b[38;5;241;43m.\u001b[39;49m\u001b[43mcreate\u001b[49m\u001b[43m(\u001b[49m\u001b[43mscreenName\u001b[49m\u001b[43m,\u001b[49m\u001b[43m \u001b[49m\u001b[43mbaseName\u001b[49m\u001b[43m,\u001b[49m\u001b[43m \u001b[49m\u001b[43mclassName\u001b[49m\u001b[43m,\u001b[49m\u001b[43m \u001b[49m\u001b[43minteractive\u001b[49m\u001b[43m,\u001b[49m\u001b[43m \u001b[49m\u001b[43mwantobjects\u001b[49m\u001b[43m,\u001b[49m\u001b[43m \u001b[49m\u001b[43museTk\u001b[49m\u001b[43m,\u001b[49m\u001b[43m \u001b[49m\u001b[43msync\u001b[49m\u001b[43m,\u001b[49m\u001b[43m \u001b[49m\u001b[43muse\u001b[49m\u001b[43m)\u001b[49m\n\u001b[1;32m   2271\u001b[0m \u001b[38;5;28;01mif\u001b[39;00m useTk:\n\u001b[1;32m   2272\u001b[0m     \u001b[38;5;28mself\u001b[39m\u001b[38;5;241m.\u001b[39m_loadtk()\n",
      "\u001b[0;31mTclError\u001b[0m: couldn't connect to display \":616822712\""
     ]
    }
   ],
   "source": [
    "# Start the amrwind_frontend app \n",
    "case = amrwind.MyApp.init_nogui()"
   ]
  },
  {
   "cell_type": "code",
   "execution_count": null,
   "id": "acbdf4b7-a3bf-4c37-b1d9-64f1c1190ee5",
   "metadata": {},
   "outputs": [],
   "source": [
    "case.ABLpostpro_loadnetcdffile(rundir+'/post_processing/abl_statistics00000.nc')"
   ]
  },
  {
   "cell_type": "code",
   "execution_count": null,
   "id": "b6f2d4f4-cb4b-426b-81c3-e2e9504648d9",
   "metadata": {},
   "outputs": [],
   "source": [
    "zMMC     = np.loadtxt('MMC_all_heights.dat')\n",
    "tMMC     = np.loadtxt('MMC_time_sec.dat')\n",
    "uMMC     = np.loadtxt('MMC_Ublend.dat')\n",
    "vMMC     = np.loadtxt('MMC_Vblend.dat')\n",
    "\n",
    "twindow = 600\n",
    "avgtimes = [[1*3600-twindow, 1*3600],\n",
    "            [2*3600-twindow, 2*3600],\n",
    "            [4*3600-twindow, 4*3600],\n",
    "            [6*3600-twindow, 6*3600],\n",
    "            [8*3600-twindow, 8*3600],            \n",
    "            [10*3600-twindow, 10*3600],            \n",
    "           ]"
   ]
  },
  {
   "cell_type": "code",
   "execution_count": null,
   "id": "a9b4f4a6-af9f-43a1-9b4f-862a72506b37",
   "metadata": {},
   "outputs": [],
   "source": [
    "# Plot velocity\n",
    "fig, axs = plt.subplots(1,len(avgtimes),figsize=(2.25*len(avgtimes),4), facecolor='w', dpi=150, sharey=True)\n",
    "for it, avgt in enumerate(avgtimes):\n",
    "    ax=axs[it]\n",
    "    dat=case.ABLpostpro_plotprofiles(ax=ax, plotvars=['Uhoriz'], avgt=avgt, doplot=False)\n",
    "    ax.plot(dat['Uhoriz']['data'], dat['Uhoriz']['z'], label='AMR-Wind')\n",
    "    \n",
    "    # Get the nearest MMC data point\n",
    "    targett = avgt[1]\n",
    "    iclosest = find_nearest(tMMC, targett)\n",
    "    uMMC_t   = uMMC[iclosest, :]\n",
    "    vMMC_t   = vMMC[iclosest, :]\n",
    "    uh_MMC   = np.sqrt(uMMC_t**2 + vMMC_t**2)\n",
    "    ax.plot(uh_MMC, zMMC, 'k--', label='Data')\n",
    "    \n",
    "    #ax.plot(np.sqrt(np.array(profile['u'])**2 + np.array(profile['v'])**2), zMMC, 'k--', label='NOW23')\n",
    "    ax.set_xlabel('U [m/s]')\n",
    "    ax.set_title('t=%.0fs'%avgt[1])\n",
    "    ax.grid(linestyle=':')\n",
    "    ax.set_xlim([1, 14])\n",
    "    \n",
    "axs[0].set_ylabel('z [m]')\n",
    "axs[0].set_ylim([0, 960])\n",
    "axs[0].legend(prop={'size':8})\n",
    "\n",
    "fig.suptitle('Horizontal velocity [10-min avg]')"
   ]
  },
  {
   "cell_type": "code",
   "execution_count": null,
   "id": "9fb185ac-73a5-4afb-830f-d4c291eb639d",
   "metadata": {},
   "outputs": [],
   "source": [
    "# Plot TKE\n",
    "fig, axs = plt.subplots(1,len(avgtimes),figsize=(2.25*len(avgtimes),4), facecolor='w', dpi=150, sharey=True)\n",
    "for it, avgt in enumerate(avgtimes):\n",
    "    ax=axs[it]\n",
    "    dat=case.ABLpostpro_plotprofiles(ax=ax, plotvars=['TKE'], avgt=avgt, doplot=False)\n",
    "    ax.plot(dat['TKE']['data'], dat['TKE']['z'], label='AMR-Wind')\n",
    "    #ax.plot(np.sqrt(np.array(profile['u'])**2 + np.array(profile['v'])**2), zMMC, 'k--')\n",
    "    ax.set_xlabel('TKE [$m^2/s^2$]')\n",
    "    ax.set_title('t=%.0fs'%avgt[1])\n",
    "    #ax.set_xlim([0, 0.3])\n",
    "    ax.grid(linestyle=':')\n",
    "    \n",
    "\n",
    "axs[0].set_ylabel('z [m]')\n",
    "axs[0].set_ylim([0, 960])\n",
    "axs[0].legend(prop={'size':8})\n",
    "\n",
    "fig.suptitle('TKE profiles [10-min avg]')"
   ]
  },
  {
   "cell_type": "code",
   "execution_count": null,
   "id": "526cf67e-946b-4855-a5f2-e5c05094be77",
   "metadata": {},
   "outputs": [],
   "source": [
    "# Plot TKE\n",
    "fig, axs = plt.subplots(1,len(avgtimes),figsize=(2.25*len(avgtimes),4), facecolor='w', dpi=150, sharey=True)\n",
    "for it, avgt in enumerate(avgtimes):\n",
    "    ax=axs[it]\n",
    "    dat=case.ABLpostpro_plotprofiles(ax=ax, plotvars=['TI_TKE'], avgt=avgt, doplot=False)\n",
    "    ax.plot(dat['TI_TKE']['data'], dat['TI_TKE']['z'], label='AMR-Wind')\n",
    "    #ax.plot(np.sqrt(np.array(profile['u'])**2 + np.array(profile['v'])**2), zMMC, 'k--')\n",
    "    ax.set_xlabel('TI [-]')\n",
    "    ax.set_title('t=%.0fs'%avgt[1])\n",
    "    #ax.set_xlim([0, 0.3])\n",
    "    ax.grid(linestyle=':')\n",
    "    \n",
    "\n",
    "axs[0].set_ylabel('z [m]')\n",
    "axs[0].set_ylim([0, 960])\n",
    "axs[0].legend(prop={'size':8})\n",
    "\n",
    "fig.suptitle('TI profiles [10-min avg]')"
   ]
  },
  {
   "cell_type": "code",
   "execution_count": null,
   "id": "4931d092-2977-4e43-9cfe-b538ff04d029",
   "metadata": {},
   "outputs": [],
   "source": [
    "# Plot Temperature\n",
    "fig, axs = plt.subplots(1,len(avgtimes),figsize=(2.25*len(avgtimes),4), facecolor='w', dpi=150, sharey=True)\n",
    "for it, avgt in enumerate(avgtimes):\n",
    "    ax=axs[it]\n",
    "    dat=case.ABLpostpro_plotprofiles(ax=ax, plotvars=['Temperature'], avgt=avgt, doplot=False)\n",
    "    ax.plot(dat['T']['data'], dat['T']['z'], label='AMR-Wind')\n",
    "    #ax.plot(np.sqrt(np.array(profile['u'])**2 + np.array(profile['v'])**2), zMMC, 'k--')\n",
    "    ax.set_xlabel('T [K]')\n",
    "    ax.set_title('t=%.0fs'%avgt[1])\n",
    "    ax.grid(linestyle=':')\n",
    "    ax.set_xlim([278, 290])\n",
    "    \n",
    "axs[0].set_ylabel('z [m]')\n",
    "axs[0].set_ylim([0, 960])\n",
    "axs[0].legend(prop={'size':8})\n",
    "\n",
    "fig.suptitle('Temperature profiles [10-min avg]')"
   ]
  },
  {
   "cell_type": "code",
   "execution_count": null,
   "id": "f9fce60a-7a1d-40cb-8c82-e361fce399d2",
   "metadata": {},
   "outputs": [],
   "source": [
    "# Plot Wind direction\n",
    "fig, axs = plt.subplots(1,len(avgtimes),figsize=(2.25*len(avgtimes),4), facecolor='w', dpi=150, sharey=True)\n",
    "for it, avgt in enumerate(avgtimes):\n",
    "    ax=axs[it]\n",
    "    dat=case.ABLpostpro_plotprofiles(ax=ax, plotvars=['WindDir'], avgt=avgt, doplot=False)\n",
    "    ax.plot(dat['WindDir']['data'], dat['WindDir']['z'], label='AMR-Wind')\n",
    "    print(np.interp(90, dat['WindDir']['z'], dat['WindDir']['data']))\n",
    "    #ax.plot(np.sqrt(np.array(profile['u'])**2 + np.array(profile['v'])**2), zMMC, 'k--')\n",
    "    ax.set_xlabel('Wind Dir [deg]')\n",
    "    ax.set_title('t=%.0fs'%avgt[1])\n",
    "    ax.grid(linestyle=':')\n",
    "    #ax.set_xlim([0, 0.3])\n",
    "    \n",
    "axs[0].set_ylabel('z [m]')\n",
    "axs[0].set_ylim([0, 960])\n",
    "axs[0].legend(prop={'size':8})\n",
    "\n",
    "fig.suptitle('Wind Direction [10-min avg]')"
   ]
  },
  {
   "cell_type": "code",
   "execution_count": null,
   "id": "19f72b5f-91f1-4fe3-829c-c97730f0a884",
   "metadata": {},
   "outputs": [],
   "source": []
  }
 ],
 "metadata": {
  "kernelspec": {
   "display_name": "Python 3 (ipykernel)",
   "language": "python",
   "name": "python3"
  },
  "language_info": {
   "codemirror_mode": {
    "name": "ipython",
    "version": 3
   },
   "file_extension": ".py",
   "mimetype": "text/x-python",
   "name": "python",
   "nbconvert_exporter": "python",
   "pygments_lexer": "ipython3",
   "version": "3.9.12"
  }
 },
 "nbformat": 4,
 "nbformat_minor": 5
}
